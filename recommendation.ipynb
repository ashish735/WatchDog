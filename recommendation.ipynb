{
 "metadata": {
  "language_info": {
   "codemirror_mode": {
    "name": "ipython",
    "version": 3
   },
   "file_extension": ".py",
   "mimetype": "text/x-python",
   "name": "python",
   "nbconvert_exporter": "python",
   "pygments_lexer": "ipython3",
   "version": 3
  },
  "orig_nbformat": 2,
  "kernelspec": {
   "name": "python_defaultSpec_1595396349091",
   "display_name": "Python 3.7.7 64-bit (conda)"
  }
 },
 "nbformat": 4,
 "nbformat_minor": 2,
 "cells": [
  {
   "cell_type": "code",
   "execution_count": 3,
   "metadata": {},
   "outputs": [],
   "source": [
    "import pandas as pd\n",
    "import numpy as np\n",
    "from sklearn.feature_extraction.text import CountVectorizer\n",
    "from sklearn.metrics.pairwise import cosine_similarity\n",
    "df = pd.read_csv(\"movie_dataset.csv\")"
   ]
  },
  {
   "cell_type": "markdown",
   "metadata": {},
   "source": [
    "If you visualize the dataset, you will see that it has many extra info about a movie. We don’t need all of them. So, we choose keywords, cast, genres and director column to use as our feature set(the so called “content” of the movie)"
   ]
  },
  {
   "cell_type": "code",
   "execution_count": 6,
   "metadata": {},
   "outputs": [],
   "source": [
    "features = ['keywords','cast','genres','director']"
   ]
  },
  {
   "cell_type": "markdown",
   "metadata": {},
   "source": [
    "Our next task is to create a function for combining the values of these columns into a single string."
   ]
  },
  {
   "cell_type": "code",
   "execution_count": 4,
   "metadata": {},
   "outputs": [],
   "source": [
    "def combine_features(row):\n",
    "    return row['keywords']+ row['cast']+ row['genres'] +row['director']"
   ]
  },
  {
   "cell_type": "markdown",
   "metadata": {},
   "source": [
    "Now, we need to call this function over each row of our dataframe. But, before doing that, we need to clean and preprocess the data for our use. We will fill all the NaN values with blank string in the dataframe."
   ]
  },
  {
   "cell_type": "code",
   "execution_count": 7,
   "metadata": {},
   "outputs": [],
   "source": [
    "for feature in features:\n",
    "    df[feature] = df[feature].fillna('') #filling all NaNs with blank string\n",
    "df['combined_features'] = df.apply(combine_features,axis=1) #applying combined_features() method over each rows of dataframe and storing the combined string in “combined_features” column"
   ]
  },
  {
   "cell_type": "markdown",
   "metadata": {},
   "source": [
    "Now that we have obtained the combined strings, we can now feed these strings to a CountVectorizer() object for getting the count matrix."
   ]
  },
  {
   "cell_type": "code",
   "execution_count": 9,
   "metadata": {},
   "outputs": [],
   "source": [
    "cv = CountVectorizer() #creating new CountVectorizer() object\n",
    "count_matrix = cv.fit_transform(df['combined_features']) #feeding combined strings(movie contents) to CountVectorizer() object"
   ]
  },
  {
   "cell_type": "code",
   "execution_count": 11,
   "metadata": {},
   "outputs": [
    {
     "output_type": "execute_result",
     "data": {
      "text/plain": "((4803, 23553), (4803, 25))"
     },
     "metadata": {},
     "execution_count": 11
    }
   ],
   "source": [
    "count_matrix.shape, df.shape"
   ]
  },
  {
   "cell_type": "markdown",
   "metadata": {},
   "source": [
    "At this point, 60% work is done. Now, we need to obtain the cosine similarity matrix from the count matrix."
   ]
  },
  {
   "cell_type": "code",
   "execution_count": 12,
   "metadata": {},
   "outputs": [],
   "source": [
    "cosine_sim = cosine_similarity(count_matrix)"
   ]
  },
  {
   "cell_type": "code",
   "execution_count": 14,
   "metadata": {},
   "outputs": [
    {
     "output_type": "execute_result",
     "data": {
      "text/plain": "(4803, 4803)"
     },
     "metadata": {},
     "execution_count": 14
    }
   ],
   "source": [
    "cosine_sim.shape"
   ]
  },
  {
   "cell_type": "markdown",
   "metadata": {},
   "source": [
    "Now, we will define two helper functions to get movie title from movie index and vice-versa."
   ]
  },
  {
   "cell_type": "code",
   "execution_count": 13,
   "metadata": {},
   "outputs": [],
   "source": [
    "def get_title_from_index(index):\n",
    "    return df[df.index == index]['title'].values[0]\n",
    "    \n",
    "def get_index_from_title(title):\n",
    "    return df[df.title == title]['index'].values[0]"
   ]
  },
  {
   "cell_type": "markdown",
   "metadata": {},
   "source": [
    "Our next step is to get the title of the movie that the user currently likes. Then we will find the index of that movie. After that, we will access the row corresponding to this movie in the similarity matrix. Thus, we will get the similarity scores of all other movies from the current movie. Then we will enumerate through all the similarity scores of that movie to make a tuple of movie index and similarity score. This will convert a row of similarity scores like this- [1 0.5 0.2 0.9] to this- [(0, 1) (1, 0.5) (2, 0.2) (3, 0.9)] . Here, each item is in this form- (movie index, similarity score)."
   ]
  },
  {
   "cell_type": "code",
   "execution_count": 15,
   "metadata": {},
   "outputs": [],
   "source": [
    "movie_user_likes = 'Avatar'\n",
    "movie_index = get_index_from_title(movie_user_likes)\n",
    "similar_movies = list(enumerate(cosine_sim[movie_index])) #accessing the row corresponding to given movie to find all the similarity scores for that movie and then enumerating over it"
   ]
  },
  {
   "cell_type": "markdown",
   "metadata": {},
   "source": [
    "Now comes the most vital point. We will sort the list similar_movies according to similarity scores in descending order. Since the most similar movie to a given movie will be itself, we will discard the first element after sorting the movies."
   ]
  },
  {
   "cell_type": "code",
   "execution_count": 16,
   "metadata": {},
   "outputs": [],
   "source": [
    "sorted_similar_movies = sorted(similar_movies,key=lambda x:x[1],reverse=True)[1:]"
   ]
  },
  {
   "cell_type": "markdown",
   "metadata": {},
   "source": [
    "Now, we will run a loop to print first 5 entries from sorted_similar_movies list."
   ]
  },
  {
   "cell_type": "code",
   "execution_count": 19,
   "metadata": {
    "tags": []
   },
   "outputs": [
    {
     "output_type": "stream",
     "name": "stdout",
     "text": "Top 5 similar movies to Avatar are:\nGuardians of the Galaxy\nAlien\nAliens\nStar Wars: Clone Wars: Volume 1\nSpace Dogs\nCargo\n"
    }
   ],
   "source": [
    "i=0\n",
    "print(\"Top 5 similar movies to {} are:\".format(movie_user_likes))\n",
    "for element in sorted_similar_movies:\n",
    "    print(get_title_from_index(element[0]))\n",
    "    i=i+1\n",
    "    if i>5:\n",
    "        break"
   ]
  },
  {
   "cell_type": "code",
   "execution_count": 20,
   "metadata": {},
   "outputs": [],
   "source": [
    "sim_df = pd.read_csv('item_similarity_df.csv')"
   ]
  },
  {
   "cell_type": "code",
   "execution_count": 21,
   "metadata": {},
   "outputs": [
    {
     "output_type": "execute_result",
     "data": {
      "text/plain": "(2269, 2270)"
     },
     "metadata": {},
     "execution_count": 21
    }
   ],
   "source": [
    "sim_df.shape"
   ]
  },
  {
   "cell_type": "code",
   "execution_count": 22,
   "metadata": {},
   "outputs": [
    {
     "output_type": "execute_result",
     "data": {
      "text/plain": "                                  title  'burbs, The (1989)  \\\n0                    'burbs, The (1989)            1.000000   \n1           (500) Days of Summer (2009)            0.063117   \n2            10 Cloverfield Lane (2016)           -0.023768   \n3     10 Things I Hate About You (1999)            0.143482   \n4                      10,000 BC (2008)            0.011998   \n...                                 ...                 ...   \n2264                   Zoolander (2001)            0.049897   \n2265                    Zootopia (2016)            0.003233   \n2266                    eXistenZ (1999)            0.187953   \n2267                         xXx (2002)            0.062174   \n2268              ¡Three Amigos! (1986)            0.353194   \n\n      (500) Days of Summer (2009)  10 Cloverfield Lane (2016)  \\\n0                        0.063117                   -0.023768   \n1                        1.000000                    0.142471   \n2                        0.142471                    1.000000   \n3                        0.273989                   -0.005799   \n4                        0.193960                    0.112396   \n...                           ...                         ...   \n2264                     0.252226                    0.195054   \n2265                     0.216007                    0.319371   \n2266                     0.053614                    0.177846   \n2267                     0.241092                    0.096638   \n2268                     0.125905                    0.002733   \n\n      10 Things I Hate About You (1999)  10,000 BC (2008)  \\\n0                              0.143482          0.011998   \n1                              0.273989          0.193960   \n2                             -0.005799          0.112396   \n3                              1.000000          0.244670   \n4                              0.244670          1.000000   \n...                                 ...               ...   \n2264                           0.281934          0.240231   \n2265                           0.050031          0.094773   \n2266                           0.121029          0.088045   \n2267                           0.130813          0.203002   \n2268                           0.110612          0.083518   \n\n      101 Dalmatians (1996)  \\\n0                  0.087931   \n1                  0.148903   \n2                  0.006139   \n3                  0.223481   \n4                  0.234459   \n...                     ...   \n2264               0.184324   \n2265               0.054024   \n2266               0.047804   \n2267               0.156932   \n2268               0.078734   \n\n      101 Dalmatians (One Hundred and One Dalmatians) (1961)  \\\n0                                              0.224052        \n1                                              0.142141        \n2                                             -0.016835        \n3                                              0.211473        \n4                                              0.119132        \n...                                                 ...        \n2264                                           0.274260        \n2265                                           0.077594        \n2266                                           0.085606        \n2267                                           0.248820        \n2268                                           0.171118        \n\n      12 Angry Men (1957)  12 Years a Slave (2013)  ...  \\\n0                0.034223                 0.009277  ...   \n1                0.159756                 0.135486  ...   \n2                0.031704                -0.024275  ...   \n3                0.011784                 0.091964  ...   \n4                0.059187                -0.025882  ...   \n...                   ...                      ...  ...   \n2264             0.122107                 0.017351  ...   \n2265             0.056742                 0.063325  ...   \n2266            -0.001708                 0.002528  ...   \n2267             0.074306                 0.037469  ...   \n2268             0.102744                 0.004213  ...   \n\n      Zack and Miri Make a Porno (2008)  Zero Dark Thirty (2012)  \\\n0                              0.017477                 0.032470   \n1                              0.374515                 0.178655   \n2                              0.242663                 0.099059   \n3                              0.243118                 0.104858   \n4                              0.260261                 0.087592   \n...                                 ...                      ...   \n2264                           0.304364                 0.243820   \n2265                           0.286213                 0.156603   \n2266                           0.088202                 0.028566   \n2267                           0.271180                 0.193624   \n2268                           0.112808                 0.064908   \n\n      Zero Effect (1998)  Zodiac (2007)  Zombieland (2009)  Zoolander (2001)  \\\n0               0.134701       0.153158           0.101301          0.049897   \n1               0.068407       0.414585           0.355723          0.252226   \n2              -0.023477       0.272347           0.241751          0.195054   \n3               0.132460       0.091853           0.158637          0.281934   \n4               0.094913       0.184521           0.242299          0.240231   \n...                  ...            ...                ...               ...   \n2264           -0.006269       0.242033           0.299522          1.000000   \n2265            0.011418       0.214385           0.298504          0.108147   \n2266            0.167541       0.145741           0.068763          0.097147   \n2267            0.080585       0.209840           0.203285          0.338034   \n2268            0.159929       0.189795           0.161397          0.109455   \n\n      Zootopia (2016)  eXistenZ (1999)  xXx (2002)  ¡Three Amigos! (1986)  \n0            0.003233         0.187953    0.062174               0.353194  \n1            0.216007         0.053614    0.241092               0.125905  \n2            0.319371         0.177846    0.096638               0.002733  \n3            0.050031         0.121029    0.130813               0.110612  \n4            0.094773         0.088045    0.203002               0.083518  \n...               ...              ...         ...                    ...  \n2264         0.108147         0.097147    0.338034               0.109455  \n2265         1.000000         0.046885    0.200762               0.020595  \n2266         0.046885         1.000000    0.163022               0.138611  \n2267         0.200762         0.163022    1.000000               0.065673  \n2268         0.020595         0.138611    0.065673               1.000000  \n\n[2269 rows x 2270 columns]",
      "text/html": "<div>\n<style scoped>\n    .dataframe tbody tr th:only-of-type {\n        vertical-align: middle;\n    }\n\n    .dataframe tbody tr th {\n        vertical-align: top;\n    }\n\n    .dataframe thead th {\n        text-align: right;\n    }\n</style>\n<table border=\"1\" class=\"dataframe\">\n  <thead>\n    <tr style=\"text-align: right;\">\n      <th></th>\n      <th>title</th>\n      <th>'burbs, The (1989)</th>\n      <th>(500) Days of Summer (2009)</th>\n      <th>10 Cloverfield Lane (2016)</th>\n      <th>10 Things I Hate About You (1999)</th>\n      <th>10,000 BC (2008)</th>\n      <th>101 Dalmatians (1996)</th>\n      <th>101 Dalmatians (One Hundred and One Dalmatians) (1961)</th>\n      <th>12 Angry Men (1957)</th>\n      <th>12 Years a Slave (2013)</th>\n      <th>...</th>\n      <th>Zack and Miri Make a Porno (2008)</th>\n      <th>Zero Dark Thirty (2012)</th>\n      <th>Zero Effect (1998)</th>\n      <th>Zodiac (2007)</th>\n      <th>Zombieland (2009)</th>\n      <th>Zoolander (2001)</th>\n      <th>Zootopia (2016)</th>\n      <th>eXistenZ (1999)</th>\n      <th>xXx (2002)</th>\n      <th>¡Three Amigos! (1986)</th>\n    </tr>\n  </thead>\n  <tbody>\n    <tr>\n      <th>0</th>\n      <td>'burbs, The (1989)</td>\n      <td>1.000000</td>\n      <td>0.063117</td>\n      <td>-0.023768</td>\n      <td>0.143482</td>\n      <td>0.011998</td>\n      <td>0.087931</td>\n      <td>0.224052</td>\n      <td>0.034223</td>\n      <td>0.009277</td>\n      <td>...</td>\n      <td>0.017477</td>\n      <td>0.032470</td>\n      <td>0.134701</td>\n      <td>0.153158</td>\n      <td>0.101301</td>\n      <td>0.049897</td>\n      <td>0.003233</td>\n      <td>0.187953</td>\n      <td>0.062174</td>\n      <td>0.353194</td>\n    </tr>\n    <tr>\n      <th>1</th>\n      <td>(500) Days of Summer (2009)</td>\n      <td>0.063117</td>\n      <td>1.000000</td>\n      <td>0.142471</td>\n      <td>0.273989</td>\n      <td>0.193960</td>\n      <td>0.148903</td>\n      <td>0.142141</td>\n      <td>0.159756</td>\n      <td>0.135486</td>\n      <td>...</td>\n      <td>0.374515</td>\n      <td>0.178655</td>\n      <td>0.068407</td>\n      <td>0.414585</td>\n      <td>0.355723</td>\n      <td>0.252226</td>\n      <td>0.216007</td>\n      <td>0.053614</td>\n      <td>0.241092</td>\n      <td>0.125905</td>\n    </tr>\n    <tr>\n      <th>2</th>\n      <td>10 Cloverfield Lane (2016)</td>\n      <td>-0.023768</td>\n      <td>0.142471</td>\n      <td>1.000000</td>\n      <td>-0.005799</td>\n      <td>0.112396</td>\n      <td>0.006139</td>\n      <td>-0.016835</td>\n      <td>0.031704</td>\n      <td>-0.024275</td>\n      <td>...</td>\n      <td>0.242663</td>\n      <td>0.099059</td>\n      <td>-0.023477</td>\n      <td>0.272347</td>\n      <td>0.241751</td>\n      <td>0.195054</td>\n      <td>0.319371</td>\n      <td>0.177846</td>\n      <td>0.096638</td>\n      <td>0.002733</td>\n    </tr>\n    <tr>\n      <th>3</th>\n      <td>10 Things I Hate About You (1999)</td>\n      <td>0.143482</td>\n      <td>0.273989</td>\n      <td>-0.005799</td>\n      <td>1.000000</td>\n      <td>0.244670</td>\n      <td>0.223481</td>\n      <td>0.211473</td>\n      <td>0.011784</td>\n      <td>0.091964</td>\n      <td>...</td>\n      <td>0.243118</td>\n      <td>0.104858</td>\n      <td>0.132460</td>\n      <td>0.091853</td>\n      <td>0.158637</td>\n      <td>0.281934</td>\n      <td>0.050031</td>\n      <td>0.121029</td>\n      <td>0.130813</td>\n      <td>0.110612</td>\n    </tr>\n    <tr>\n      <th>4</th>\n      <td>10,000 BC (2008)</td>\n      <td>0.011998</td>\n      <td>0.193960</td>\n      <td>0.112396</td>\n      <td>0.244670</td>\n      <td>1.000000</td>\n      <td>0.234459</td>\n      <td>0.119132</td>\n      <td>0.059187</td>\n      <td>-0.025882</td>\n      <td>...</td>\n      <td>0.260261</td>\n      <td>0.087592</td>\n      <td>0.094913</td>\n      <td>0.184521</td>\n      <td>0.242299</td>\n      <td>0.240231</td>\n      <td>0.094773</td>\n      <td>0.088045</td>\n      <td>0.203002</td>\n      <td>0.083518</td>\n    </tr>\n    <tr>\n      <th>...</th>\n      <td>...</td>\n      <td>...</td>\n      <td>...</td>\n      <td>...</td>\n      <td>...</td>\n      <td>...</td>\n      <td>...</td>\n      <td>...</td>\n      <td>...</td>\n      <td>...</td>\n      <td>...</td>\n      <td>...</td>\n      <td>...</td>\n      <td>...</td>\n      <td>...</td>\n      <td>...</td>\n      <td>...</td>\n      <td>...</td>\n      <td>...</td>\n      <td>...</td>\n      <td>...</td>\n    </tr>\n    <tr>\n      <th>2264</th>\n      <td>Zoolander (2001)</td>\n      <td>0.049897</td>\n      <td>0.252226</td>\n      <td>0.195054</td>\n      <td>0.281934</td>\n      <td>0.240231</td>\n      <td>0.184324</td>\n      <td>0.274260</td>\n      <td>0.122107</td>\n      <td>0.017351</td>\n      <td>...</td>\n      <td>0.304364</td>\n      <td>0.243820</td>\n      <td>-0.006269</td>\n      <td>0.242033</td>\n      <td>0.299522</td>\n      <td>1.000000</td>\n      <td>0.108147</td>\n      <td>0.097147</td>\n      <td>0.338034</td>\n      <td>0.109455</td>\n    </tr>\n    <tr>\n      <th>2265</th>\n      <td>Zootopia (2016)</td>\n      <td>0.003233</td>\n      <td>0.216007</td>\n      <td>0.319371</td>\n      <td>0.050031</td>\n      <td>0.094773</td>\n      <td>0.054024</td>\n      <td>0.077594</td>\n      <td>0.056742</td>\n      <td>0.063325</td>\n      <td>...</td>\n      <td>0.286213</td>\n      <td>0.156603</td>\n      <td>0.011418</td>\n      <td>0.214385</td>\n      <td>0.298504</td>\n      <td>0.108147</td>\n      <td>1.000000</td>\n      <td>0.046885</td>\n      <td>0.200762</td>\n      <td>0.020595</td>\n    </tr>\n    <tr>\n      <th>2266</th>\n      <td>eXistenZ (1999)</td>\n      <td>0.187953</td>\n      <td>0.053614</td>\n      <td>0.177846</td>\n      <td>0.121029</td>\n      <td>0.088045</td>\n      <td>0.047804</td>\n      <td>0.085606</td>\n      <td>-0.001708</td>\n      <td>0.002528</td>\n      <td>...</td>\n      <td>0.088202</td>\n      <td>0.028566</td>\n      <td>0.167541</td>\n      <td>0.145741</td>\n      <td>0.068763</td>\n      <td>0.097147</td>\n      <td>0.046885</td>\n      <td>1.000000</td>\n      <td>0.163022</td>\n      <td>0.138611</td>\n    </tr>\n    <tr>\n      <th>2267</th>\n      <td>xXx (2002)</td>\n      <td>0.062174</td>\n      <td>0.241092</td>\n      <td>0.096638</td>\n      <td>0.130813</td>\n      <td>0.203002</td>\n      <td>0.156932</td>\n      <td>0.248820</td>\n      <td>0.074306</td>\n      <td>0.037469</td>\n      <td>...</td>\n      <td>0.271180</td>\n      <td>0.193624</td>\n      <td>0.080585</td>\n      <td>0.209840</td>\n      <td>0.203285</td>\n      <td>0.338034</td>\n      <td>0.200762</td>\n      <td>0.163022</td>\n      <td>1.000000</td>\n      <td>0.065673</td>\n    </tr>\n    <tr>\n      <th>2268</th>\n      <td>¡Three Amigos! (1986)</td>\n      <td>0.353194</td>\n      <td>0.125905</td>\n      <td>0.002733</td>\n      <td>0.110612</td>\n      <td>0.083518</td>\n      <td>0.078734</td>\n      <td>0.171118</td>\n      <td>0.102744</td>\n      <td>0.004213</td>\n      <td>...</td>\n      <td>0.112808</td>\n      <td>0.064908</td>\n      <td>0.159929</td>\n      <td>0.189795</td>\n      <td>0.161397</td>\n      <td>0.109455</td>\n      <td>0.020595</td>\n      <td>0.138611</td>\n      <td>0.065673</td>\n      <td>1.000000</td>\n    </tr>\n  </tbody>\n</table>\n<p>2269 rows × 2270 columns</p>\n</div>"
     },
     "metadata": {},
     "execution_count": 22
    }
   ],
   "source": [
    "sim_df"
   ]
  },
  {
   "cell_type": "code",
   "execution_count": null,
   "metadata": {},
   "outputs": [],
   "source": []
  }
 ]
}